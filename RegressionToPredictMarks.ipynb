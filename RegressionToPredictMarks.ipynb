{
  "nbformat": 4,
  "nbformat_minor": 0,
  "metadata": {
    "colab": {
      "name": "RegressionToPredictMarks.ipynb",
      "provenance": [],
      "collapsed_sections": []
    },
    "kernelspec": {
      "name": "python3",
      "display_name": "Python 3"
    }
  },
  "cells": [
    {
      "cell_type": "markdown",
      "metadata": {
        "id": "gPbkqC5M_zld",
        "colab_type": "text"
      },
      "source": [
        "## ***Model to predict the Marks of a student based on the number of hours the student studied***\n",
        "\n",
        "---\n",
        "\n"
      ]
    },
    {
      "cell_type": "markdown",
      "metadata": {
        "id": "lacWzir37a0p",
        "colab_type": "text"
      },
      "source": [
        "**Importing the required libraries**"
      ]
    },
    {
      "cell_type": "code",
      "metadata": {
        "id": "QPegBNBjaI_X",
        "colab_type": "code",
        "colab": {}
      },
      "source": [
        "import numpy as np\n",
        "import pandas as pd\n",
        "import matplotlib.pyplot as plt\n"
      ],
      "execution_count": 165,
      "outputs": []
    },
    {
      "cell_type": "markdown",
      "metadata": {
        "id": "jB4wT8EM7mab",
        "colab_type": "text"
      },
      "source": [
        "**Reading our data from the csv file**"
      ]
    },
    {
      "cell_type": "code",
      "metadata": {
        "id": "P040HRz3eZkl",
        "colab_type": "code",
        "colab": {
          "base_uri": "https://localhost:8080/",
          "height": 342
        },
        "outputId": "9be1e303-734b-47e5-d54b-77f36f131fc7"
      },
      "source": [
        "data=pd.read_csv(\"https://raw.githubusercontent.com/AdiPersonalWorks/Random/master/student_scores%20-%20student_scores.csv\")\n",
        "data.head(10)"
      ],
      "execution_count": 166,
      "outputs": [
        {
          "output_type": "execute_result",
          "data": {
            "text/html": [
              "<div>\n",
              "<style scoped>\n",
              "    .dataframe tbody tr th:only-of-type {\n",
              "        vertical-align: middle;\n",
              "    }\n",
              "\n",
              "    .dataframe tbody tr th {\n",
              "        vertical-align: top;\n",
              "    }\n",
              "\n",
              "    .dataframe thead th {\n",
              "        text-align: right;\n",
              "    }\n",
              "</style>\n",
              "<table border=\"1\" class=\"dataframe\">\n",
              "  <thead>\n",
              "    <tr style=\"text-align: right;\">\n",
              "      <th></th>\n",
              "      <th>Hours</th>\n",
              "      <th>Scores</th>\n",
              "    </tr>\n",
              "  </thead>\n",
              "  <tbody>\n",
              "    <tr>\n",
              "      <th>0</th>\n",
              "      <td>2.5</td>\n",
              "      <td>21</td>\n",
              "    </tr>\n",
              "    <tr>\n",
              "      <th>1</th>\n",
              "      <td>5.1</td>\n",
              "      <td>47</td>\n",
              "    </tr>\n",
              "    <tr>\n",
              "      <th>2</th>\n",
              "      <td>3.2</td>\n",
              "      <td>27</td>\n",
              "    </tr>\n",
              "    <tr>\n",
              "      <th>3</th>\n",
              "      <td>8.5</td>\n",
              "      <td>75</td>\n",
              "    </tr>\n",
              "    <tr>\n",
              "      <th>4</th>\n",
              "      <td>3.5</td>\n",
              "      <td>30</td>\n",
              "    </tr>\n",
              "    <tr>\n",
              "      <th>5</th>\n",
              "      <td>1.5</td>\n",
              "      <td>20</td>\n",
              "    </tr>\n",
              "    <tr>\n",
              "      <th>6</th>\n",
              "      <td>9.2</td>\n",
              "      <td>88</td>\n",
              "    </tr>\n",
              "    <tr>\n",
              "      <th>7</th>\n",
              "      <td>5.5</td>\n",
              "      <td>60</td>\n",
              "    </tr>\n",
              "    <tr>\n",
              "      <th>8</th>\n",
              "      <td>8.3</td>\n",
              "      <td>81</td>\n",
              "    </tr>\n",
              "    <tr>\n",
              "      <th>9</th>\n",
              "      <td>2.7</td>\n",
              "      <td>25</td>\n",
              "    </tr>\n",
              "  </tbody>\n",
              "</table>\n",
              "</div>"
            ],
            "text/plain": [
              "   Hours  Scores\n",
              "0    2.5      21\n",
              "1    5.1      47\n",
              "2    3.2      27\n",
              "3    8.5      75\n",
              "4    3.5      30\n",
              "5    1.5      20\n",
              "6    9.2      88\n",
              "7    5.5      60\n",
              "8    8.3      81\n",
              "9    2.7      25"
            ]
          },
          "metadata": {
            "tags": []
          },
          "execution_count": 166
        }
      ]
    },
    {
      "cell_type": "markdown",
      "metadata": {
        "id": "l15dQU4M7w1T",
        "colab_type": "text"
      },
      "source": [
        "**Making our data into desired format**"
      ]
    },
    {
      "cell_type": "code",
      "metadata": {
        "id": "mdz5yJy1ko17",
        "colab_type": "code",
        "colab": {}
      },
      "source": [
        "x=data.iloc[:,0].values\n",
        "y=data.iloc[:,1].values\n",
        "x=np.array(x).reshape(len(x),1)\n",
        "y=np.array(y).reshape(len(y),1)\n",
        "m=x.size\n",
        "\n"
      ],
      "execution_count": 167,
      "outputs": []
    },
    {
      "cell_type": "markdown",
      "metadata": {
        "id": "lQMjPVTA81qm",
        "colab_type": "text"
      },
      "source": [
        "**Visualizing the data**\n"
      ]
    },
    {
      "cell_type": "code",
      "metadata": {
        "id": "1aCOGGW0erlB",
        "colab_type": "code",
        "colab": {
          "base_uri": "https://localhost:8080/",
          "height": 294
        },
        "outputId": "da06ccd7-c7c7-4205-fa6b-49cbc2c02038"
      },
      "source": [
        "def plotdata(x,y):\n",
        "  plt.figure()\n",
        "  plt.plot(x,y,'rx')\n",
        "  plt.xlabel(\"number of hours studied\")\n",
        "  plt.ylabel(\"marks scored\")\n",
        "  plt.title(\"students performance\")\n",
        "  plt.legend([\"marks scored\"])\n",
        "plotdata(x,y)"
      ],
      "execution_count": 168,
      "outputs": [
        {
          "output_type": "display_data",
          "data": {
            "image/png": "[encoded data removed]",
            "text/plain": [
              "<Figure size 432x288 with 1 Axes>"
            ]
          },
          "metadata": {
            "tags": [],
            "needs_background": "light"
          }
        }
      ]
    },
    {
      "cell_type": "markdown",
      "metadata": {
        "id": "LqEzzlAU89uI",
        "colab_type": "text"
      },
      "source": [
        "**Adding the bias term**"
      ]
    },
    {
      "cell_type": "code",
      "metadata": {
        "id": "Bm3_lgY1fqzD",
        "colab_type": "code",
        "colab": {}
      },
      "source": [
        "X=np.hstack((np.ones((m,1)),x)) #adding  bias term"
      ],
      "execution_count": 169,
      "outputs": []
    },
    {
      "cell_type": "markdown",
      "metadata": {
        "id": "Z9RmdZji9uxQ",
        "colab_type": "text"
      },
      "source": [
        "**Dividing the data into training and testing datasets**"
      ]
    },
    {
      "cell_type": "code",
      "metadata": {
        "id": "sfWdTlpTEUV7",
        "colab_type": "code",
        "colab": {}
      },
      "source": [
        "xtrain=X[:20,:]\n",
        "xtest=X[20:,:]\n",
        "ytrain=y[:20,:]\n",
        "ytest=y[20:,:]"
      ],
      "execution_count": 170,
      "outputs": []
    },
    {
      "cell_type": "markdown",
      "metadata": {
        "id": "fZHalmpu-C4m",
        "colab_type": "text"
      },
      "source": [
        "**Initializing the weights**"
      ]
    },
    {
      "cell_type": "code",
      "metadata": {
        "id": "a_TGVZ3Rlw2G",
        "colab_type": "code",
        "colab": {}
      },
      "source": [
        "theta=np.zeros((2,1))\n"
      ],
      "execution_count": 171,
      "outputs": []
    },
    {
      "cell_type": "markdown",
      "metadata": {
        "id": "UkVMghJ9-Lte",
        "colab_type": "text"
      },
      "source": [
        "**Calculating costfunction**\n",
        "\n",
        "---\n",
        "\n"
      ]
    },
    {
      "cell_type": "code",
      "metadata": {
        "id": "lPOtQWcNp23-",
        "colab_type": "code",
        "colab": {
          "base_uri": "https://localhost:8080/",
          "height": 33
        },
        "outputId": "524f0697-7a10-4bfa-845f-d4342c977b05"
      },
      "source": [
        "def costfunction(x,y,theta):\n",
        "  m=x.size\n",
        "  cost=1/(2*m)*np.sum((x@theta-y)**2)\n",
        "  return cost\n",
        "print(\"initial cost=\",costfunction(xtrain,ytrain,theta))"
      ],
      "execution_count": 172,
      "outputs": [
        {
          "output_type": "stream",
          "text": [
            "initial cost= 792.35\n"
          ],
          "name": "stdout"
        }
      ]
    },
    {
      "cell_type": "markdown",
      "metadata": {
        "id": "S18tyFy0-c4g",
        "colab_type": "text"
      },
      "source": [
        "**Calculating the optimal weights using the method of gradient descent**"
      ]
    },
    {
      "cell_type": "code",
      "metadata": {
        "id": "6o-h49j0qY-y",
        "colab_type": "code",
        "colab": {
          "base_uri": "https://localhost:8080/",
          "height": 50
        },
        "outputId": "3c979db5-cafb-4d7d-c26b-469aca7c36fe"
      },
      "source": [
        "def gradientdescent(x,y,theta,lambd,iter):\n",
        "  m=x.size\n",
        "  costfun=[]\n",
        "  for i in range(1,iter+1):\n",
        "    theta=theta-1/m*lambd*(x.T@(x@theta-y))\n",
        "    costfun.append(costfunction(x,y,theta))\n",
        "  return theta,costfun\n",
        "Theta,costfun=gradientdescent(xtrain,ytrain,theta,0.1,30)\n",
        "print(\"optimal Weights = \",Theta)"
      ],
      "execution_count": 173,
      "outputs": [
        {
          "output_type": "stream",
          "text": [
            "optimal Weights =  [[1.95359248]\n",
            " [9.69198455]]\n"
          ],
          "name": "stdout"
        }
      ]
    },
    {
      "cell_type": "markdown",
      "metadata": {
        "id": "y93w6_Qu-zr9",
        "colab_type": "text"
      },
      "source": [
        "***Number of iterations vs Cost function***"
      ]
    },
    {
      "cell_type": "code",
      "metadata": {
        "id": "qZKan-oeu63Z",
        "colab_type": "code",
        "colab": {
          "base_uri": "https://localhost:8080/",
          "height": 282
        },
        "outputId": "06915476-cfe8-4094-97ab-d75ab0286270"
      },
      "source": [
        "plt.figure()\n",
        "plt.plot(range(1,31),costfun)"
      ],
      "execution_count": 174,
      "outputs": [
        {
          "output_type": "execute_result",
          "data": {
            "text/plain": [
              "[<matplotlib.lines.Line2D at 0x7f3c2ffd4780>]"
            ]
          },
          "metadata": {
            "tags": []
          },
          "execution_count": 174
        },
        {
          "output_type": "display_data",
          "data": {
            "image/png": "[encoded data removed]",
            "text/plain": [
              "<Figure size 432x288 with 1 Axes>"
            ]
          },
          "metadata": {
            "tags": [],
            "needs_background": "light"
          }
        }
      ]
    },
    {
      "cell_type": "markdown",
      "metadata": {
        "id": "zeHIIU65_eKY",
        "colab_type": "text"
      },
      "source": [
        "**Plotting and Visualizing our model prediction**"
      ]
    },
    {
      "cell_type": "code",
      "metadata": {
        "id": "18UypY_zs-d_",
        "colab_type": "code",
        "colab": {
          "base_uri": "https://localhost:8080/",
          "height": 311
        },
        "outputId": "ddf89926-48aa-4196-cd2d-3ac0eaec86b0"
      },
      "source": [
        "plt.figure()\n",
        "xtemp=xtest[:,1].reshape(5,1)\n",
        "plt.plot(x,y,'rx')\n",
        "plt.plot(x,X@Theta)\n",
        "plt.title(\"Hours studied vs marks scored\")\n",
        "plt.xlabel(\"number of hours studied\")\n",
        "plt.ylabel(\"marks scored\")\n",
        "plt.legend([\"original marks\",\"Model Prediction\"])"
      ],
      "execution_count": 175,
      "outputs": [
        {
          "output_type": "execute_result",
          "data": {
            "text/plain": [
              "<matplotlib.legend.Legend at 0x7f3c2ff1f7b8>"
            ]
          },
          "metadata": {
            "tags": []
          },
          "execution_count": 175
        },
        {
          "output_type": "display_data",
          "data": {
            "image/png": "[encoded data removed]",
            "text/plain": [
              "<Figure size 432x288 with 1 Axes>"
            ]
          },
          "metadata": {
            "tags": [],
            "needs_background": "light"
          }
        }
      ]
    },
    {
      "cell_type": "markdown",
      "metadata": {
        "id": "Zcf-xWH_Jlc8",
        "colab_type": "text"
      },
      "source": [
        "**Actual Vs Predicted**"
      ]
    },
    {
      "cell_type": "code",
      "metadata": {
        "id": "qfoCpb6ZCFAn",
        "colab_type": "code",
        "colab": {
          "base_uri": "https://localhost:8080/",
          "height": 194
        },
        "outputId": "fcca00a4-6a5e-43ae-8367-924f6e50038f"
      },
      "source": [
        "ypred=xtest@Theta\n",
        "df=pd.DataFrame({\"Actual\":ytest.reshape(5),\"Predicted\":ypred.reshape(5)})\n",
        "df"
      ],
      "execution_count": 176,
      "outputs": [
        {
          "output_type": "execute_result",
          "data": {
            "text/html": [
              "<div>\n",
              "<style scoped>\n",
              "    .dataframe tbody tr th:only-of-type {\n",
              "        vertical-align: middle;\n",
              "    }\n",
              "\n",
              "    .dataframe tbody tr th {\n",
              "        vertical-align: top;\n",
              "    }\n",
              "\n",
              "    .dataframe thead th {\n",
              "        text-align: right;\n",
              "    }\n",
              "</style>\n",
              "<table border=\"1\" class=\"dataframe\">\n",
              "  <thead>\n",
              "    <tr style=\"text-align: right;\">\n",
              "      <th></th>\n",
              "      <th>Actual</th>\n",
              "      <th>Predicted</th>\n",
              "    </tr>\n",
              "  </thead>\n",
              "  <tbody>\n",
              "    <tr>\n",
              "      <th>0</th>\n",
              "      <td>30</td>\n",
              "      <td>28.121951</td>\n",
              "    </tr>\n",
              "    <tr>\n",
              "      <th>1</th>\n",
              "      <td>54</td>\n",
              "      <td>48.475118</td>\n",
              "    </tr>\n",
              "    <tr>\n",
              "      <th>2</th>\n",
              "      <td>35</td>\n",
              "      <td>38.783134</td>\n",
              "    </tr>\n",
              "    <tr>\n",
              "      <th>3</th>\n",
              "      <td>76</td>\n",
              "      <td>68.828286</td>\n",
              "    </tr>\n",
              "    <tr>\n",
              "      <th>4</th>\n",
              "      <td>86</td>\n",
              "      <td>77.551072</td>\n",
              "    </tr>\n",
              "  </tbody>\n",
              "</table>\n",
              "</div>"
            ],
            "text/plain": [
              "   Actual  Predicted\n",
              "0      30  28.121951\n",
              "1      54  48.475118\n",
              "2      35  38.783134\n",
              "3      76  68.828286\n",
              "4      86  77.551072"
            ]
          },
          "metadata": {
            "tags": []
          },
          "execution_count": 176
        }
      ]
    },
    {
      "cell_type": "markdown",
      "metadata": {
        "id": "L6JS7hD_-_P6",
        "colab_type": "text"
      },
      "source": [
        "**Evaluating our model**\n",
        "\n",
        "we can observe that the traning and testing costfunction are low and nearly same"
      ]
    },
    {
      "cell_type": "code",
      "metadata": {
        "id": "yc9oq4Ly30gu",
        "colab_type": "code",
        "colab": {
          "base_uri": "https://localhost:8080/",
          "height": 50
        },
        "outputId": "4291fce8-e2b9-4685-b677-45b5c41b65e1"
      },
      "source": [
        "print(\"costfunction on training set = \",costfunction(xtrain,ytrain,Theta))\n",
        "print(\"costfunction on testing set = \",costfunction(xtest,ytest,Theta))"
      ],
      "execution_count": 177,
      "outputs": [
        {
          "output_type": "stream",
          "text": [
            "costfunction on training set =  7.181663811984525\n",
            "costfunction on testing set =  8.559067826423618\n"
          ],
          "name": "stdout"
        }
      ]
    },
    {
      "cell_type": "code",
      "metadata": {
        "id": "nKK8rDfbKEWx",
        "colab_type": "code",
        "colab": {}
      },
      "source": [
        ""
      ],
      "execution_count": 177,
      "outputs": []
    }
  ]
}